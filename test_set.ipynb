{
 "cells": [
  {
   "cell_type": "code",
   "execution_count": 3,
   "metadata": {},
   "outputs": [],
   "source": [
    "import os\n",
    "import glob\n",
    "import keras\n",
    "from keras_video import VideoFrameGenerator\n",
    "import keras_video.utils\n",
    "import tensorflow\n",
    "from tensorflow.keras import backend\n",
    "from tensorflow.keras.layers import TimeDistributed\n",
    "from tensorflow.keras.layers import (Conv2D, MaxPooling3D, Conv3D,MaxPooling2D)\n",
    "from tensorflow.keras.layers import Dense, Flatten, Dropout, ZeroPadding3D\n",
    "from tensorflow.keras.layers import LSTM\n",
    "from tensorflow.keras.models import Sequential, load_model\n",
    "from tensorflow.keras.optimizers import Adam, RMSprop\n",
    "from collections import deque\n",
    "from tensorflow.keras.regularizers import l2\n",
    "from tensorflow.keras.layers import BatchNormalization\n",
    "from keras.utils.vis_utils import plot_model\n",
    "from tensorflow.keras.layers import Dense, Dropout, Activation, Flatten\n",
    "import os.path\n",
    "import time\n"
   ]
  },
  {
   "cell_type": "markdown",
   "metadata": {},
   "source": [
    "# Loading the Model From the saved JSON File"
   ]
  },
  {
   "cell_type": "code",
   "execution_count": 4,
   "metadata": {},
   "outputs": [
    {
     "name": "stdout",
     "output_type": "stream",
     "text": [
      "Model: \"sequential_3\"\n",
      "_________________________________________________________________\n",
      "Layer (type)                 Output Shape              Param #   \n",
      "=================================================================\n",
      "time_distributed_84 (TimeDis (None, 15, 98, 98, 32)    4736      \n",
      "_________________________________________________________________\n",
      "time_distributed_85 (TimeDis (None, 15, 96, 96, 32)    9248      \n",
      "_________________________________________________________________\n",
      "time_distributed_86 (TimeDis (None, 15, 96, 96, 32)    128       \n",
      "_________________________________________________________________\n",
      "time_distributed_87 (TimeDis (None, 15, 96, 96, 32)    0         \n",
      "_________________________________________________________________\n",
      "time_distributed_88 (TimeDis (None, 15, 48, 48, 32)    0         \n",
      "_________________________________________________________________\n",
      "time_distributed_89 (TimeDis (None, 15, 48, 48, 64)    18496     \n",
      "_________________________________________________________________\n",
      "time_distributed_90 (TimeDis (None, 15, 48, 48, 64)    256       \n",
      "_________________________________________________________________\n",
      "time_distributed_91 (TimeDis (None, 15, 48, 48, 64)    0         \n",
      "_________________________________________________________________\n",
      "time_distributed_92 (TimeDis (None, 15, 46, 46, 64)    36928     \n",
      "_________________________________________________________________\n",
      "time_distributed_93 (TimeDis (None, 15, 46, 46, 64)    256       \n",
      "_________________________________________________________________\n",
      "time_distributed_94 (TimeDis (None, 15, 46, 46, 64)    0         \n",
      "_________________________________________________________________\n",
      "time_distributed_95 (TimeDis (None, 15, 23, 23, 64)    0         \n",
      "_________________________________________________________________\n",
      "time_distributed_96 (TimeDis (None, 15, 23, 23, 128)   73856     \n",
      "_________________________________________________________________\n",
      "time_distributed_97 (TimeDis (None, 15, 23, 23, 128)   512       \n",
      "_________________________________________________________________\n",
      "time_distributed_98 (TimeDis (None, 15, 23, 23, 128)   0         \n",
      "_________________________________________________________________\n",
      "time_distributed_99 (TimeDis (None, 15, 21, 21, 128)   147584    \n",
      "_________________________________________________________________\n",
      "time_distributed_100 (TimeDi (None, 15, 21, 21, 128)   512       \n",
      "_________________________________________________________________\n",
      "time_distributed_101 (TimeDi (None, 15, 21, 21, 128)   0         \n",
      "_________________________________________________________________\n",
      "time_distributed_102 (TimeDi (None, 15, 10, 10, 128)   0         \n",
      "_________________________________________________________________\n",
      "time_distributed_103 (TimeDi (None, 15, 10, 10, 128)   512       \n",
      "_________________________________________________________________\n",
      "time_distributed_104 (TimeDi (None, 15, 10, 10, 256)   295168    \n",
      "_________________________________________________________________\n",
      "time_distributed_105 (TimeDi (None, 15, 10, 10, 256)   1024      \n",
      "_________________________________________________________________\n",
      "time_distributed_106 (TimeDi (None, 15, 10, 10, 256)   0         \n",
      "_________________________________________________________________\n",
      "time_distributed_107 (TimeDi (None, 15, 8, 8, 256)     590080    \n",
      "_________________________________________________________________\n",
      "time_distributed_108 (TimeDi (None, 15, 8, 8, 256)     1024      \n",
      "_________________________________________________________________\n",
      "time_distributed_109 (TimeDi (None, 15, 8, 8, 256)     0         \n",
      "_________________________________________________________________\n",
      "time_distributed_110 (TimeDi (None, 15, 4, 4, 256)     0         \n",
      "_________________________________________________________________\n",
      "time_distributed_111 (TimeDi (None, 15, 4096)          0         \n",
      "_________________________________________________________________\n",
      "lstm_3 (LSTM)                (None, 128)               2163200   \n",
      "_________________________________________________________________\n",
      "dense_9 (Dense)              (None, 128)               16512     \n",
      "_________________________________________________________________\n",
      "dense_10 (Dense)             (None, 64)                8256      \n",
      "_________________________________________________________________\n",
      "dense_11 (Dense)             (None, 2)                 130       \n",
      "=================================================================\n",
      "Total params: 3,368,418\n",
      "Trainable params: 3,366,306\n",
      "Non-trainable params: 2,112\n",
      "_________________________________________________________________\n"
     ]
    }
   ],
   "source": [
    "# Set the path to the saved location of the JSON file. \n",
    "\n",
    "with open('F:/DLProj/model.json', 'r') as json_file:\n",
    "    json_savedModel= json_file.read()\n",
    "#load the model architecture \n",
    "model_j = tensorflow.keras.models.model_from_json(json_savedModel)\n",
    "model_j.summary()\n"
   ]
  },
  {
   "cell_type": "code",
   "execution_count": 52,
   "metadata": {},
   "outputs": [],
   "source": [
    "# Load the saved model weight\n",
    "model_j.load_weights('F:/DLProj/Weights/model_weights.hdf5')"
   ]
  },
  {
   "cell_type": "markdown",
   "metadata": {},
   "source": [
    "# Defining the video generator for the test set"
   ]
  },
  {
   "cell_type": "code",
   "execution_count": 53,
   "metadata": {},
   "outputs": [
    {
     "name": "stdout",
     "output_type": "stream",
     "text": [
      "class Door, validation count: 0, train count: 22\n",
      "class Not_Door, validation count: 0, train count: 15\n",
      "Total data: 2 classes for 37 files for train\n"
     ]
    }
   ],
   "source": [
    "import os\n",
    "import glob\n",
    "import keras\n",
    "from keras_video import VideoFrameGenerator\n",
    "\n",
    "# use sub directories names as classes\n",
    "classes = [i.split(os.path.sep)[1] for i in glob.glob('F:/DLProj/1_2_Sub/Dataset/Comp/Test/*')]\n",
    "classes.sort()\n",
    "# some global params\n",
    "SIZE = (300, 300)\n",
    "CHANNELS = 3\n",
    "NBFRAME = 15\n",
    "BS = 5\n",
    "# pattern to get videos and classes\n",
    "glob_pattern='F:/DLProj/1_2_Sub/Dataset/Comp/Test/{classname}/*.mp4'\n",
    "# for data augmentation\n",
    "data_aug = keras.preprocessing.image.ImageDataGenerator(\n",
    "    zoom_range=.1,\n",
    "    horizontal_flip=True,\n",
    "    rotation_range=8,\n",
    "    width_shift_range=.2,\n",
    "    height_shift_range=.2)\n",
    "# Create video frame generator\n",
    "test = VideoFrameGenerator(\n",
    "    classes=classes, \n",
    "    glob_pattern=glob_pattern,\n",
    "    nb_frames=NBFRAME,\n",
    "    split_val=0.00001,  # 33% of the videos will be used as validation set. \n",
    "    shuffle=True,\n",
    "    batch_size=BS,\n",
    "    target_shape=SIZE,\n",
    "    nb_channel=CHANNELS,\n",
    "    transformation=data_aug,\n",
    "    use_frame_cache=False)"
   ]
  },
  {
   "cell_type": "code",
   "execution_count": 54,
   "metadata": {},
   "outputs": [],
   "source": [
    "optimizer= RMSprop(lr=1e-4)\n",
    "model_j.compile(optimizer=optimizer , \n",
    "              loss='categorical_crossentropy',\n",
    "              #loss='binary_crossentropy',\n",
    "              metrics=['accuracy'])"
   ]
  },
  {
   "cell_type": "code",
   "execution_count": 55,
   "metadata": {},
   "outputs": [
    {
     "name": "stdout",
     "output_type": "stream",
     "text": [
      "WARNING:tensorflow:sample_weight modes were coerced from\n",
      "  ...\n",
      "    to  \n",
      "  ['...']\n",
      "10/10 [==============================] - 27s 3s/step - loss: 1.0827 - accuracy: 0.8000\n"
     ]
    }
   ],
   "source": [
    "histos = model_j.evaluate_generator(test,\n",
    "                                    steps = 10,\n",
    "                                   verbose = 1\n",
    "                                   )"
   ]
  },
  {
   "cell_type": "code",
   "execution_count": 56,
   "metadata": {},
   "outputs": [
    {
     "name": "stdout",
     "output_type": "stream",
     "text": [
      "Test score: 1.0827441096305848\n",
      "Test accuracy: 0.8\n"
     ]
    }
   ],
   "source": [
    "print('Test score:', histos[0])\n",
    "print('Test accuracy:', histos[1])"
   ]
  },
  {
   "cell_type": "code",
   "execution_count": null,
   "metadata": {},
   "outputs": [],
   "source": []
  },
  {
   "cell_type": "code",
   "execution_count": null,
   "metadata": {},
   "outputs": [],
   "source": []
  },
  {
   "cell_type": "code",
   "execution_count": null,
   "metadata": {},
   "outputs": [],
   "source": []
  }
 ],
 "metadata": {
  "kernelspec": {
   "display_name": "Python 3",
   "language": "python",
   "name": "python3"
  },
  "language_info": {
   "codemirror_mode": {
    "name": "ipython",
    "version": 3
   },
   "file_extension": ".py",
   "mimetype": "text/x-python",
   "name": "python",
   "nbconvert_exporter": "python",
   "pygments_lexer": "ipython3",
   "version": "3.7.4"
  }
 },
 "nbformat": 4,
 "nbformat_minor": 4
}

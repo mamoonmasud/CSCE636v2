{
 "cells": [
  {
   "cell_type": "code",
   "execution_count": 1,
   "metadata": {},
   "outputs": [
    {
     "name": "stderr",
     "output_type": "stream",
     "text": [
      "Using TensorFlow backend.\n"
     ]
    }
   ],
   "source": [
    "import os\n",
    "import glob\n",
    "import keras\n",
    "from keras_video import VideoFrameGenerator\n",
    "import keras_video.utils\n",
    "import tensorflow\n",
    "from tensorflow.keras import backend\n",
    "from tensorflow.keras.layers import TimeDistributed\n",
    "from tensorflow.keras.layers import (Conv2D, MaxPooling3D, Conv3D,MaxPooling2D)\n",
    "from tensorflow.keras.layers import Dense, Flatten, Dropout, ZeroPadding3D\n",
    "from tensorflow.keras.layers import LSTM\n",
    "from tensorflow.keras.models import Sequential, load_model\n",
    "from tensorflow.keras.optimizers import Adam, RMSprop\n",
    "from collections import deque\n",
    "from tensorflow.keras.regularizers import l2\n",
    "from tensorflow.keras.layers import BatchNormalization\n",
    "import os.path\n",
    "import time\n",
    "import cv2\n",
    "import numpy as np\n",
    "import matplotlib.pyplot as plt"
   ]
  },
  {
   "cell_type": "markdown",
   "metadata": {},
   "source": [
    "# Loading the Saved Model & Weights"
   ]
  },
  {
   "cell_type": "code",
   "execution_count": 2,
   "metadata": {
    "collapsed": true,
    "jupyter": {
     "outputs_hidden": true
    }
   },
   "outputs": [
    {
     "name": "stdout",
     "output_type": "stream",
     "text": [
      "Model: \"sequential_3\"\n",
      "_________________________________________________________________\n",
      "Layer (type)                 Output Shape              Param #   \n",
      "=================================================================\n",
      "time_distributed_84 (TimeDis (None, 15, 98, 98, 32)    4736      \n",
      "_________________________________________________________________\n",
      "time_distributed_85 (TimeDis (None, 15, 96, 96, 32)    9248      \n",
      "_________________________________________________________________\n",
      "time_distributed_86 (TimeDis (None, 15, 96, 96, 32)    128       \n",
      "_________________________________________________________________\n",
      "time_distributed_87 (TimeDis (None, 15, 96, 96, 32)    0         \n",
      "_________________________________________________________________\n",
      "time_distributed_88 (TimeDis (None, 15, 48, 48, 32)    0         \n",
      "_________________________________________________________________\n",
      "time_distributed_89 (TimeDis (None, 15, 48, 48, 64)    18496     \n",
      "_________________________________________________________________\n",
      "time_distributed_90 (TimeDis (None, 15, 48, 48, 64)    256       \n",
      "_________________________________________________________________\n",
      "time_distributed_91 (TimeDis (None, 15, 48, 48, 64)    0         \n",
      "_________________________________________________________________\n",
      "time_distributed_92 (TimeDis (None, 15, 46, 46, 64)    36928     \n",
      "_________________________________________________________________\n",
      "time_distributed_93 (TimeDis (None, 15, 46, 46, 64)    256       \n",
      "_________________________________________________________________\n",
      "time_distributed_94 (TimeDis (None, 15, 46, 46, 64)    0         \n",
      "_________________________________________________________________\n",
      "time_distributed_95 (TimeDis (None, 15, 23, 23, 64)    0         \n",
      "_________________________________________________________________\n",
      "time_distributed_96 (TimeDis (None, 15, 23, 23, 128)   73856     \n",
      "_________________________________________________________________\n",
      "time_distributed_97 (TimeDis (None, 15, 23, 23, 128)   512       \n",
      "_________________________________________________________________\n",
      "time_distributed_98 (TimeDis (None, 15, 23, 23, 128)   0         \n",
      "_________________________________________________________________\n",
      "time_distributed_99 (TimeDis (None, 15, 21, 21, 128)   147584    \n",
      "_________________________________________________________________\n",
      "time_distributed_100 (TimeDi (None, 15, 21, 21, 128)   512       \n",
      "_________________________________________________________________\n",
      "time_distributed_101 (TimeDi (None, 15, 21, 21, 128)   0         \n",
      "_________________________________________________________________\n",
      "time_distributed_102 (TimeDi (None, 15, 10, 10, 128)   0         \n",
      "_________________________________________________________________\n",
      "time_distributed_103 (TimeDi (None, 15, 10, 10, 128)   512       \n",
      "_________________________________________________________________\n",
      "time_distributed_104 (TimeDi (None, 15, 10, 10, 256)   295168    \n",
      "_________________________________________________________________\n",
      "time_distributed_105 (TimeDi (None, 15, 10, 10, 256)   1024      \n",
      "_________________________________________________________________\n",
      "time_distributed_106 (TimeDi (None, 15, 10, 10, 256)   0         \n",
      "_________________________________________________________________\n",
      "time_distributed_107 (TimeDi (None, 15, 8, 8, 256)     590080    \n",
      "_________________________________________________________________\n",
      "time_distributed_108 (TimeDi (None, 15, 8, 8, 256)     1024      \n",
      "_________________________________________________________________\n",
      "time_distributed_109 (TimeDi (None, 15, 8, 8, 256)     0         \n",
      "_________________________________________________________________\n",
      "time_distributed_110 (TimeDi (None, 15, 4, 4, 256)     0         \n",
      "_________________________________________________________________\n",
      "time_distributed_111 (TimeDi (None, 15, 4096)          0         \n",
      "_________________________________________________________________\n",
      "lstm_3 (LSTM)                (None, 128)               2163200   \n",
      "_________________________________________________________________\n",
      "dense_9 (Dense)              (None, 128)               16512     \n",
      "_________________________________________________________________\n",
      "dense_10 (Dense)             (None, 64)                8256      \n",
      "_________________________________________________________________\n",
      "dense_11 (Dense)             (None, 2)                 130       \n",
      "=================================================================\n",
      "Total params: 3,368,418\n",
      "Trainable params: 3,366,306\n",
      "Non-trainable params: 2,112\n",
      "_________________________________________________________________\n"
     ]
    }
   ],
   "source": [
    "# Set the path to the saved location of the JSON file containing model architecture . \n",
    "\n",
    "with open('F:/DLProj/1_2_Sub/v1/v1.json', 'r') as json_file:\n",
    "    json_savedModel= json_file.read()\n",
    "#load the model architecture \n",
    "model = tensorflow.keras.models.model_from_json(json_savedModel)\n",
    "\n",
    "# Load the saved model weight file\n",
    "model.load_weights('F:/DLProj/1_2_Sub/v1/Weights/model_saved.68-1.07.hdf5')\n",
    "model.summary()"
   ]
  },
  {
   "cell_type": "code",
   "execution_count": 3,
   "metadata": {},
   "outputs": [],
   "source": [
    "optimizer= RMSprop(lr=1e-4)\n",
    "model.compile(optimizer=optimizer , \n",
    "              loss='categorical_crossentropy',\n",
    "              #loss='binary_crossentropy',\n",
    "              metrics=['accuracy'])"
   ]
  },
  {
   "cell_type": "markdown",
   "metadata": {},
   "source": [
    "# Testing the model on new data"
   ]
  },
  {
   "cell_type": "code",
   "execution_count": 4,
   "metadata": {},
   "outputs": [],
   "source": [
    "import numpy as np\n",
    "img_rows, img_cols, img_depth = 300, 300, 15"
   ]
  },
  {
   "cell_type": "code",
   "execution_count": 5,
   "metadata": {},
   "outputs": [],
   "source": [
    "def predict_door(input_file, output_file, image_path):\n",
    "    x_train = [] #Variable for storing the files \n",
    "    ## Code for extracting 15 frames (distanced at equal interval in the video) from Door Training set\n",
    "    t_hold = 0.501 #threshold for class prediction\n",
    "    vid_p = input_file\n",
    "    interval_duration = 7 # This defines the seconds after which we make a prediction\n",
    "    frames = []\n",
    "    legend = []\n",
    "    cap = cv2.VideoCapture(vid_p)\n",
    "    fps = cap.get(5) # Getting the frames per second. \n",
    "    total_frames = int(cap.get(7))  #Total frames in the video\n",
    "    vid_dur = int(total_frames/fps) # Gives the video duration in seconds\n",
    "    intervals = int(vid_dur/interval_duration) #This defines how many predictions we'll make\n",
    "    if intervals == 0:\n",
    "        intervals = 1\n",
    "    frame_per_interval = total_frames //intervals #This defines how many frames are in total for each prediction duration (7 secs)\n",
    "    frame_distance = frame_per_interval//img_depth #This defines the no. of frames we'll skip.\n",
    "\n",
    "    frame_count = 0 # This variable keeps count of the total frames, and is reset after extracting each frame\n",
    "    save_frame = 0 \n",
    "    interval_count = 1\n",
    "    \n",
    "    # Parameters for the plot.\n",
    "    fig = plt.figure(figsize = (10,10), dpi = 200)\n",
    "    plt.xlabel(\"Time (secs)\")\n",
    "    plt.ylabel(\"label\")\n",
    "    \n",
    "    for i in range (total_frames): #iterating over all the frames of the video.\n",
    "            ret, frame = cap.read()\n",
    "            if ret ==False:  # Checking if the frame is missing, and if missing, we take the previous frame\n",
    "                frame = f_prev\n",
    "            elif ret==True:\n",
    "                f_prev =frame\n",
    "            frame_count +=1\n",
    "            if frame_count ==(frame_distance):\n",
    "                frame_count = 0\n",
    "                frame=cv2.resize(frame,(img_rows,img_cols),interpolation=cv2.INTER_AREA)\n",
    "                frames.append(frame)\n",
    "\n",
    "            if i == ((interval_count*frame_per_interval)-1):\n",
    "                inpt = np.array(frames)\n",
    "                inpt = inpt.astype('float32')\n",
    "                inpt -= np.mean(inpt)\n",
    "                inpt /=np.max(inpt)\n",
    "                \n",
    "                frames = []\n",
    "                mod_in = np.zeros((1, 15, 300, 300, 3))\n",
    "                mod_in[0][:][:][:][:] = inpt[:15][:][:][:]\n",
    "                p = model.predict(mod_in, batch_size = 1)#verbose = 1)\n",
    "                prob = p[:][0][0]\n",
    "                s0 = (interval_count-1)*interval_duration #Starting time of the interval in secs\n",
    "                s1 = (interval_count)*interval_duration   # Ending time of the interval in secs\n",
    "                print(p)\n",
    "                if prob >= t_hold:\n",
    "                    s2 = [('Door: ' +  str(s0) + 'secs - ' + str(s1) + 'secs.')]\n",
    "                    s3 = 'door'\n",
    "                    s4 = [s3,s3,s3,s3,s3,s3,s3]\n",
    "                else:\n",
    "                    s2 = [('Not_Door: ' +  str(s0) + 'secs - ' + str(s1) + 'secs.')]\n",
    "                    s3 = 'Not Door'\n",
    "                    s4 = [s3,s3,s3,s3,s3,s3,s3]\n",
    "                plot_interval = range((interval_count-1)*7 , (interval_count*7))\n",
    "                plt.plot(plot_interval, s4, 'o', linestyle='--', color = 'blue')  \n",
    "                plt.fill_between(plot_interval,(s3), color = 'gray')\n",
    "                \n",
    "                print(interval_count)\n",
    "                interval_count += 1 #Incrementing interval count by 1\n",
    "                print(s3)\n",
    "                legend.append(s2)\n",
    "\n",
    "            if cv2.waitKey(1) & 0xFF == ord('q'):\n",
    "                break\n",
    "    cap.release()\n",
    "    cv2.destroyAllWindows()\n",
    "    print(legend)\n",
    "    with open(output_file, 'w') as f:\n",
    "        f.write(str(legend))\n",
    "    plot_title= 'Predicted Labels for Video File'\n",
    "    plt.title(plot_title)\n",
    "    plt.savefig(image_path)"
   ]
  },
  {
   "cell_type": "code",
   "execution_count": 7,
   "metadata": {},
   "outputs": [
    {
     "name": "stdout",
     "output_type": "stream",
     "text": [
      "[[0.7908334  0.20916659]]\n",
      "1\n",
      "door\n",
      "[[0.35216624 0.64783376]]\n",
      "2\n",
      "Not Door\n",
      "[['Door: 0secs - 7secs.'], ['Not_Door: 7secs - 14secs.']]\n"
     ]
    },
    {
     "data": {
      "image/png": "[encoded data removed]",
      "text/plain": [
       "<Figure size 2000x2000 with 1 Axes>"
      ]
     },
     "metadata": {
      "needs_background": "light"
     },
     "output_type": "display_data"
    }
   ],
   "source": [
    "in_1 = 'F:/Testing/00T4B.MP4' # Input the path of the video\n",
    "out_2 = 'F:/Testing/00T4B.json' #Input the path of the JSON File \n",
    "img_path = 'F:/Testing/00T4B.jpeg'\n",
    "predict_door(in_1 , out_2, img_path)"
   ]
  },
  {
   "cell_type": "code",
   "execution_count": null,
   "metadata": {},
   "outputs": [],
   "source": []
  },
  {
   "cell_type": "code",
   "execution_count": null,
   "metadata": {},
   "outputs": [],
   "source": [
    "\n"
   ]
  },
  {
   "cell_type": "code",
   "execution_count": null,
   "metadata": {},
   "outputs": [],
   "source": []
  },
  {
   "cell_type": "code",
   "execution_count": null,
   "metadata": {},
   "outputs": [],
   "source": []
  }
 ],
 "metadata": {
  "kernelspec": {
   "display_name": "Python 3",
   "language": "python",
   "name": "python3"
  },
  "language_info": {
   "codemirror_mode": {
    "name": "ipython",
    "version": 3
   },
   "file_extension": ".py",
   "mimetype": "text/x-python",
   "name": "python",
   "nbconvert_exporter": "python",
   "pygments_lexer": "ipython3",
   "version": "3.7.4"
  }
 },
 "nbformat": 4,
 "nbformat_minor": 4
}
